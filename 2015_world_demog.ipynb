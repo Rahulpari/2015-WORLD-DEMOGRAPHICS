{
 "cells": [
  {
   "cell_type": "markdown",
   "id": "c3e31111",
   "metadata": {},
   "source": [
    "### Understanding the Dataset\n",
    "Schema **world** is created within MySQL and data **demog** is imported into the schema"
   ]
  },
  {
   "cell_type": "code",
   "execution_count": null,
   "id": "68c0af6d",
   "metadata": {},
   "outputs": [],
   "source": [
    "SELECT * FROM world.demog\n",
    "LIMIT 10;"
   ]
  },
  {
   "cell_type": "markdown",
   "id": "ee51eb6c",
   "metadata": {},
   "source": [
    "| id | code | name                | area    | area_land | area_water | population | population_growth | birth_rate | death_rate | migration_rate |\n",
    "| -- | ---- | ------------------- | ------- | --------- | ---------- | ---------- | ----------------- | ---------- | ---------- | -------------- |\n",
    "| 1  | af   | Afghanistan         | 652230  | 652230    | 0          | 32564342   | 2.32              | 38.57      | 13.89      | 1.51           |\n",
    "| 2  | al   | Albania             | 28748   | 27398     | 1350       | 3029278    | 0.3               | 12.92      | 6.58       | 3.3            |\n",
    "| 3  | ag   | Algeria             | 2381741 | 2381741   | 0          | 39542166   | 1.84              | 23.67      | 4.31       | 0.92           |\n",
    "| 4  | an   | Andorra             | 468     | 468       | 0          | 85580      | 0.12              | 8.13       | 6.96       | 0              |\n",
    "| 5  | ao   | Angola              | 1246700 | 1246700   | 0          | 19625353   | 2.78              | 38.78      | 11.49      | 0.46           |\n",
    "| 6  | ac   | Antigua and Barbuda | 442     | 442       | 0          | 92436      | 1.24              | 15.85      | 5.69       | 2.21           |\n",
    "| 7  | ar   | Argentina           | 2780400 | 2736690   | 43710      | 43431886   | 0.93              | 16.64      | 7.33       | 0              |\n",
    "| 8  | am   | Armenia             | 29743   | 28203     | 1540       | 3056382    | 0.15              | 13.61      | 9.34       | 5.8            |\n",
    "| 9  | as   | Australia           | 7741220 | 7682300   | 58920      | 22751014   | 1.07              | 12.15      | 7.14       | 5.65           |\n",
    "| 10 | au   | Austria             | 83871   | 82445     | 1426       | 8665550    | 0.55              | 9.41       | 9.42       | 5.56           |"
   ]
  },
  {
   "cell_type": "code",
   "execution_count": null,
   "id": "0b378f9c",
   "metadata": {},
   "outputs": [],
   "source": [
    "SELECT * FROM world.demog\n",
    "ORDER BY id DESC\n",
    "LIMIT 10;"
   ]
  },
  {
   "cell_type": "markdown",
   "id": "4d42b915",
   "metadata": {},
   "source": [
    "| id  | code | name                                          | area  | area_land | area_water | population | population_growth | birth_rate | death_rate | migration_rate |\n",
    "| --- | ---- | --------------------------------------------- | ----- | --------- | ---------- | ---------- | ----------------- | ---------- | ---------- | -------------- |\n",
    "| 254 | we   | West Bank                                     | 5860  | 5640      | 220        | 2785366    | 1.95              | 22.99      | 3.5        | 0              |\n",
    "| 251 | gz   | Gaza Strip                                    | 360   | 360       | 0          | 1869055    | 2.81              | 31.11      | 3.04       | 0              |\n",
    "| 247 | vq   | Virgin Islands                                | 1910  | 346       | 1564       | 103574     | 0.59              | 10.31      | 8.54       | 7.67           |\n",
    "| 246 | rq   | Puerto Rico                                   | 13791 | 8870      | 4921       | 3598357    | 0.6               | 10.86      | 8.67       | 8.15           |\n",
    "| 245 | cq   | Northern Mariana Islands                      | 464   | 464       | 0          | 52344      | 2.18              | 18.32      | 3.71       | 7.16           |\n",
    "| 243 | gq   | Guam                                          | 544   | 544       | 0          | 161785     | 0.54              | 16.82      | 5.12       | 6.34           |\n",
    "| 242 | aq   | American Samoa                                | 199   | 199       | 0          | 54343      | 0.3               | 22.89      | 4.75       | 21.13          |\n",
    "| 241 | tk   | Turks and Caicos Islands                      | 948   | 948       | 0          | 50280      | 2.3               | 16.13      | 3.1        | 9.94           |\n",
    "| 239 | sh   | Saint Helena, Ascension, and Tristan da Cunha | 308   | 122       | 0          | 7795       | 0.24              | 9.88       | 7.44       | 0              |\n",
    "| 237 | mh   | Montserrat                                    | 102   | 102       | 0          | 5241       | 0.5               | 11.26      | 6.3        | 0              |"
   ]
  },
  {
   "cell_type": "code",
   "execution_count": null,
   "id": "c18821a6",
   "metadata": {},
   "outputs": [],
   "source": [
    "SELECT COUNT(id) FROM world.demog"
   ]
  },
  {
   "cell_type": "markdown",
   "id": "e87b9c79",
   "metadata": {},
   "source": [
    "###### output: 215"
   ]
  },
  {
   "cell_type": "code",
   "execution_count": null,
   "id": "2e803815",
   "metadata": {},
   "outputs": [],
   "source": [
    "DESCRIBE world.demog;"
   ]
  },
  {
   "cell_type": "markdown",
   "id": "90004194",
   "metadata": {},
   "source": [
    "| id                | int    | YES | \n",
    "| ----------------- | ------ | --- |\n",
    "| code              | text   | YES |\n",
    "| name              | text   | YES |\n",
    "| area              | int    | YES |\n",
    "| area_land         | int    | YES |\n",
    "| area_water        | int    | YES |\n",
    "| population        | int    | YES |\n",
    "| population_growth | double | YES |\n",
    "| birth_rate        | double | YES |\n",
    "| death_rate        | double | YES |\n",
    "| migration_rate    | double | YES |"
   ]
  },
  {
   "cell_type": "markdown",
   "id": "001681c7",
   "metadata": {},
   "source": [
    "### Secondary Data\n",
    "03 new data is created: **%land; %water & density** for each country "
   ]
  },
  {
   "cell_type": "code",
   "execution_count": null,
   "id": "39080a7e",
   "metadata": {},
   "outputs": [],
   "source": [
    "CREATE TABLE world.demog01\n",
    "(\n",
    "SELECT *,\n",
    "ROUND((area_land/area*100),2) AS percent_land,\n",
    "ROUND((area_water/area*100),2) AS percent_water,\n",
    "ROUND((population/area_land),2) AS density\n",
    "FROM world.demog\n",
    ")\n",
    "\n",
    "SELECT * FROM world.demog01\n",
    "LIMIT 10;"
   ]
  },
  {
   "cell_type": "markdown",
   "id": "ed6787fd",
   "metadata": {},
   "source": [
    "| id | code | name        | area    | area_land | area_water | population | population_growth | birth_rate | death_rate | migration_rate | percent_land | percent_water | density |\n",
    "| -- | ---- | ----------- | ------- | --------- | ---------- | ---------- | ----------------- | ---------- | ---------- | -------------- | ------------ | -------------- | ------- |\n",
    "| 1  | af   | Afghanistan | 652230  | 652230    | 0          | 32564342   | 2.32              | 38.57      | 13.89      | 1.51           | 100          | 0              | 49.93   |\n",
    "| 2  | al   | Albania     | 28748   | 27398     | 1350       | 3029278    | 0.3               | 12.92      | 6.58       | 3.3            | 95.3         | 4.7            | 110.57  |\n",
    "| 3  | ag   | Algeria     | 2381741 | 2381741   | 0          | 39542166   | 1.84              | 23.67      | 4.31       | 0.92           | 100          | 0              | 16.6    |\n",
    "| 4  | an   | Andorra     | 468     | 468       | 0          | 85580      | 0.12              | 8.13       | 6.96       | 0              | 100          | 0              | 182.86  |\n",
    "| 5  | ao   | Angola      | 1246700 | 1246700   | 0          | 19625353   | 2.78              | 38.78      | 11.49      | 0.46           | 100          | 0              | 15.74   |"
   ]
  },
  {
   "cell_type": "markdown",
   "id": "2ba2c05f",
   "metadata": {},
   "source": [
    "\n",
    "### Summarizing the variables"
   ]
  },
  {
   "cell_type": "code",
   "execution_count": null,
   "id": "31b83554",
   "metadata": {},
   "outputs": [],
   "source": [
    "SELECT ROUND(MIN(area),2), ROUND(MAX(area),2), ROUND(AVG(area),2) FROM world.demog01;"
   ]
  },
  {
   "cell_type": "code",
   "execution_count": null,
   "id": "a5eb10f6",
   "metadata": {},
   "outputs": [],
   "source": [
    "SELECT ROUND(MIN(area_land),2), ROUND(MAX(area_land),2), ROUND(AVG(area_land),2) FROM world.demog01;"
   ]
  },
  {
   "cell_type": "code",
   "execution_count": null,
   "id": "818b1026",
   "metadata": {},
   "outputs": [],
   "source": [
    "SELECT ROUND(MIN(area_water),2), ROUND(MAX(area_water),2), ROUND(AVG(area_water),2) FROM world.demog01;"
   ]
  },
  {
   "cell_type": "code",
   "execution_count": null,
   "id": "973288c7",
   "metadata": {},
   "outputs": [],
   "source": [
    "SELECT ROUND(MIN(population),2), ROUND(MAX(population),2), ROUND(AVG(population),2) FROM world.demog01;"
   ]
  },
  {
   "cell_type": "code",
   "execution_count": null,
   "id": "ab35f1c0",
   "metadata": {},
   "outputs": [],
   "source": [
    "SELECT ROUND(MIN(population_growth),2), ROUND(MAX(population_growth),2), ROUND(AVG(population_growth),2) FROM world.demog01;"
   ]
  },
  {
   "cell_type": "code",
   "execution_count": null,
   "id": "fc537f98",
   "metadata": {},
   "outputs": [],
   "source": [
    "SELECT ROUND(MIN(birth_rate),2), ROUND(MAX(birth_rate),2), ROUND(AVG(birth_rate),2) FROM world.demog01;"
   ]
  },
  {
   "cell_type": "code",
   "execution_count": null,
   "id": "0d509674",
   "metadata": {},
   "outputs": [],
   "source": [
    "SELECT ROUND(MIN(death_rate),2), ROUND(MAX(death_rate),2), ROUND(AVG(death_rate),2) FROM world.demog01;"
   ]
  },
  {
   "cell_type": "code",
   "execution_count": null,
   "id": "d4af5189",
   "metadata": {},
   "outputs": [],
   "source": [
    "SELECT ROUND(MIN(migration_rate),2), ROUND(MAX(migration_rate),2), ROUND(AVG(migration_rate),2) FROM world.demog01;"
   ]
  },
  {
   "cell_type": "code",
   "execution_count": null,
   "id": "1566dbdd",
   "metadata": {},
   "outputs": [],
   "source": [
    "SELECT ROUND(MIN(percent_land),2), ROUND(MAX(percent_land),2), ROUND(AVG(percent_land),2) FROM world.demog01;"
   ]
  },
  {
   "cell_type": "code",
   "execution_count": null,
   "id": "f84a0848",
   "metadata": {},
   "outputs": [],
   "source": [
    "SELECT ROUND(MIN(percent_water),2), ROUND(MAX(percent_water),2), ROUND(AVG(percent_water),2) FROM world.demog01;"
   ]
  },
  {
   "cell_type": "code",
   "execution_count": null,
   "id": "4c769d01",
   "metadata": {},
   "outputs": [],
   "source": [
    "SELECT ROUND(MIN(density),2), ROUND(MAX(density),2), ROUND(AVG(density),2) FROM world.demog01;"
   ]
  },
  {
   "cell_type": "markdown",
   "id": "848d82f4",
   "metadata": {},
   "source": [
    "|                   | MIN   | MAX      | AVG      |\n",
    "| ----------------- | ----- | -------- | -------- |\n",
    "| area              | 2     | 17098242 | 592671.9 |\n",
    "| area_land         | 2     | 16377742 | 571976.5 |\n",
    "| area_water        | 0     | 891163   | 20694.53 |\n",
    "| population        | 5241  | 1.37E+09 | 32890978 |\n",
    "| population_growth | 0.01  | 3.32     | 1.21     |\n",
    "| birth_rate        | 6.65  | 44.99    | 19.07    |\n",
    "| death_rate        | 1.53  | 14.89    | 7.76     |\n",
    "| migration_rate    | 0     | 22.39    | 3.42     |\n",
    "| percent_land      | 18.12 | 100      | 96.72    |\n",
    "| percent_water     | 0     | 81.88    | 3        |\n",
    "| density           | 1.93  | 21168.96 | 460.83   |"
   ]
  },
  {
   "cell_type": "markdown",
   "id": "99027df8",
   "metadata": {},
   "source": [
    "### Data of Country with highest population"
   ]
  },
  {
   "cell_type": "code",
   "execution_count": null,
   "id": "af0ed18f",
   "metadata": {},
   "outputs": [],
   "source": [
    "SELECT * FROM world.demog01\n",
    "WHERE population = ( SELECT MAX(population) FROM world.demog01);"
   ]
  },
  {
   "cell_type": "markdown",
   "id": "b3f2cbd6",
   "metadata": {},
   "source": [
    "| id | code | name  | area    | area_land | area_water | population | population_growth | birth_rate | death_rate | migration_rate | percent_land | percent_water | density |\n",
    "| ----- | ---- | ----- | ------- | --------- | ---------- | ---------- | ----------------- | ---------- | ---------- | -------------- | ------------ | ------------- | ------- |\n",
    "| 37    | ch   | China | 9596960 | 9326410   | 270550     | 1.37E+09   | 0.45              | 12.49      | 7.53       | 0.44           | 97.18        | 2.82          | 146.63  |"
   ]
  },
  {
   "cell_type": "markdown",
   "id": "41ee3660",
   "metadata": {},
   "source": [
    "### Data of Country with lowest population"
   ]
  },
  {
   "cell_type": "code",
   "execution_count": null,
   "id": "b1b74090",
   "metadata": {},
   "outputs": [],
   "source": [
    "SELECT * FROM world.demog01\n",
    "WHERE population = ( SELECT MIN(population) FROM world.demog01);"
   ]
  },
  {
   "cell_type": "markdown",
   "id": "fecc0201",
   "metadata": {},
   "source": [
    "| id | code | name       | area | area_land | area_water | population | population_growth | birth_rate | death_rate | migration_rate | percent_land | percent_water | density |\n",
    "| ----- | ---- | ---------- | ---- | --------- | ---------- | ---------- | ----------------- | ---------- | ---------- | -------------- | ------------ | ------------- | ------- |\n",
    "| 237   | mh   | Montserrat | 102  | 102       | 0          | 5241       | 0.5               | 11.26      | 6.3        | 0              | 100          | 0             | 51.38   |"
   ]
  },
  {
   "cell_type": "markdown",
   "id": "44d3e8d6",
   "metadata": {},
   "source": [
    "### Data of Country with highest Population Growth"
   ]
  },
  {
   "cell_type": "code",
   "execution_count": null,
   "id": "4ff23215",
   "metadata": {},
   "outputs": [],
   "source": [
    "SELECT * FROM world.demog01\n",
    "WHERE population_growth = ( SELECT MAX(population_growth) FROM world.demog01);"
   ]
  },
  {
   "cell_type": "markdown",
   "id": "1b675222",
   "metadata": {},
   "source": [
    "| id  | code | name   | area   | area_land | area_water | population | population_growth | birth_rate | death_rate | migration_rate | percent_land | percent_water | density |\n",
    "| --- | ---- | ------ | ------ | --------- | ---------- | ---------- | ----------------- | ---------- | ---------- | -------------- | ------------ | ------------- | ------- |\n",
    "| 106 | mi   | Malawi | 118484 | 94080     | 24404      | 17964697   | 3.32              | 41.56      | 8.41       | 0              | 79.4         | 20.6          | 190.95  |"
   ]
  },
  {
   "cell_type": "markdown",
   "id": "ba82a0b1",
   "metadata": {},
   "source": [
    "### Data of Country with lowest Population Growth"
   ]
  },
  {
   "cell_type": "code",
   "execution_count": null,
   "id": "04ae0294",
   "metadata": {},
   "outputs": [],
   "source": [
    "SELECT * FROM world.demog01\n",
    "WHERE population_growth = ( SELECT MIN(population_growth) FROM world.demog01);"
   ]
  },
  {
   "cell_type": "markdown",
   "id": "e57047c9",
   "metadata": {},
   "source": [
    "| id | code | name   | area   | area_land | area_water | population | population_growth | birth_rate | death_rate | migration_rate | percent_land | percent_water | density |\n",
    "| -- | ---- | ------ | ------ | --------- | ---------- | ---------- | ----------------- | ---------- | ---------- | -------------- | ------------ | ------------- | ------- |\n",
    "| 67 | gr   | Greece | 131957 | 130647    | 1310       | 10775643   | 0.01              | 8.66       | 11.09      | 2.32           | 99.01        | 0.99          | 82.48   |"
   ]
  },
  {
   "cell_type": "markdown",
   "id": "522f6e21",
   "metadata": {},
   "source": [
    "### Data of Country with highest density"
   ]
  },
  {
   "cell_type": "code",
   "execution_count": null,
   "id": "0b48cfc1",
   "metadata": {},
   "outputs": [],
   "source": [
    "SELECT * FROM world.demog01\n",
    "WHERE density = ( SELECT MAX(density) FROM world.demog01);"
   ]
  },
  {
   "cell_type": "markdown",
   "id": "05e32d2f",
   "metadata": {},
   "source": [
    "| id  | code | name  | area | area_land | area_water | population | population_growth | birth_rate | death_rate | migration_rate | percent_land | percent_water | density  |\n",
    "| --- | ---- | ----- | ---- | --------- | ---------- | ---------- | ----------------- | ---------- | ---------- | -------------- | ------------ | ------------- | -------- |\n",
    "| 205 | mc   | Macau | 28   | 28        | 0          | 592731     | 0.8               | 8.88       | 4.22       | 3.37           | 100          | 0             | 21168.96 |"
   ]
  },
  {
   "cell_type": "markdown",
   "id": "a8b3f8c5",
   "metadata": {},
   "source": [
    "### Data of Country with lowest density"
   ]
  },
  {
   "cell_type": "code",
   "execution_count": null,
   "id": "3af8bd54",
   "metadata": {},
   "outputs": [],
   "source": [
    "SELECT * FROM world.demog01\n",
    "WHERE density = ( SELECT MIN(density) FROM world.demog01);"
   ]
  },
  {
   "cell_type": "markdown",
   "id": "8ec0b703",
   "metadata": {},
   "source": [
    "| id  | code | name     | area    | area_land | area_water | population | population_growth | birth_rate | death_rate | migration_rate | percent_land | percent_water | density |\n",
    "| --- | ---- | -------- | ------- | --------- | ---------- | ---------- | ----------------- | ---------- | ---------- | -------------- | ------------ | ------------- | ------- |\n",
    "| 118 | mg   | Mongolia | 1564116 | 1553556   | 10560      | 2992908    | 1.31              | 20.25      | 6.35       | 0.84           | 99.32        | 0.68          | 1.93    |"
   ]
  }
 ],
 "metadata": {
  "kernelspec": {
   "display_name": "Python 3 (ipykernel)",
   "language": "python",
   "name": "python3"
  },
  "language_info": {
   "codemirror_mode": {
    "name": "ipython",
    "version": 3
   },
   "file_extension": ".py",
   "mimetype": "text/x-python",
   "name": "python",
   "nbconvert_exporter": "python",
   "pygments_lexer": "ipython3",
   "version": "3.11.1"
  }
 },
 "nbformat": 4,
 "nbformat_minor": 5
}
